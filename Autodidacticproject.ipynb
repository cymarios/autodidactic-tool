{
 "cells": [
  {
   "cell_type": "code",
   "execution_count": 1,
   "id": "d114d44f-5db9-4f43-9057-4006d6ba229f",
   "metadata": {},
   "outputs": [
    {
     "name": "stdout",
     "output_type": "stream",
     "text": [
      "Flask version: 3.1.0\n",
      "NumPy version: 2.2.5\n",
      "Pandas version: 2.2.3\n"
     ]
    },
    {
     "name": "stderr",
     "output_type": "stream",
     "text": [
      "C:\\Users\\Marios\\AppData\\Local\\Temp\\ipykernel_10892\\1135666747.py:5: DeprecationWarning: The '__version__' attribute is deprecated and will be removed in Flask 3.1. Use feature detection or 'importlib.metadata.version(\"flask\")' instead.\n",
      "  print(\"Flask version:\", flask.__version__)\n"
     ]
    }
   ],
   "source": [
    "import flask\n",
    "import numpy as np\n",
    "import pandas as pd\n",
    "\n",
    "print(\"Flask version:\", flask.__version__)\n",
    "print(\"NumPy version:\", np.__version__)\n",
    "print(\"Pandas version:\", pd.__version__)\n"
   ]
  },
  {
   "cell_type": "code",
   "execution_count": 2,
   "id": "5ea201c6-871a-4804-84fc-838c6c1c54d9",
   "metadata": {},
   "outputs": [
    {
     "name": "stdout",
     "output_type": "stream",
     "text": [
      "Flask version: 3.1.0\n"
     ]
    }
   ],
   "source": [
    "import importlib.metadata\n",
    "\n",
    "print(\"Flask version:\", importlib.metadata.version(\"flask\"))\n"
   ]
  },
  {
   "cell_type": "code",
   "execution_count": 3,
   "id": "b90952bd-d99f-4b55-aee9-3867cdea7c09",
   "metadata": {},
   "outputs": [],
   "source": [
    "class AutodidacticLearner:\n",
    "    def __init__(self, num_features):\n",
    "        # Initialize with all literals (both positive and negative)\n",
    "        self.hypothesis = set()\n",
    "        for i in range(num_features):\n",
    "            self.hypothesis.add(f\"x{i+1}\")\n",
    "            self.hypothesis.add(f\"¬x{i+1}\")\n",
    "\n",
    "    def refine_hypothesis(self, example, label):\n",
    "        # Example: string like \"1?0?\"\n",
    "        if label == '1':\n",
    "            # Remove inconsistent literals\n",
    "            for i, val in enumerate(example):\n",
    "                if val == '1':\n",
    "                    literal = f\"¬x{i+1}\"\n",
    "                    if literal in self.hypothesis:\n",
    "                        self.hypothesis.remove(literal)\n",
    "                elif val == '0':\n",
    "                    literal = f\"x{i+1}\"\n",
    "                    if literal in self.hypothesis:\n",
    "                        self.hypothesis.remove(literal)\n",
    "                # '?' values ignored for positive examples\n",
    "        elif label == '0':\n",
    "            # Negative examples are not directly refining, but missing values replaced with 0\n",
    "            example = example.replace('?', '0')\n",
    "        # '?' examples (unknown labels) are ignored completely\n",
    "        \n",
    "    def get_hypothesis(self):\n",
    "        return sorted(list(self.hypothesis))\n"
   ]
  },
  {
   "cell_type": "code",
   "execution_count": 4,
   "id": "e8786792-b027-42aa-a4e3-f9871c4ba2e1",
   "metadata": {},
   "outputs": [
    {
     "name": "stdout",
     "output_type": "stream",
     "text": [
      "Refined hypothesis: ['x2', 'x4']\n"
     ]
    }
   ],
   "source": [
    "# Create a learner with 4 features\n",
    "learner = AutodidacticLearner(num_features=4)\n",
    "\n",
    "# Example training data:\n",
    "training_examples = [\n",
    "    (\"1?01\", '1'),  # Positive example\n",
    "    (\"0?11\", '1'),  # Positive example\n",
    "    (\"?100\", '0'),  # Negative example\n",
    "    (\"110?\", '1'),  # Positive example\n",
    "]\n",
    "\n",
    "# Apply examples\n",
    "for example, label in training_examples:\n",
    "    learner.refine_hypothesis(example, label)\n",
    "\n",
    "# Check resulting hypothesis\n",
    "print(\"Refined hypothesis:\", learner.get_hypothesis())\n"
   ]
  },
  {
   "cell_type": "code",
   "execution_count": 5,
   "id": "0892f6fb-92e7-41c9-9a66-2b6ac90f3413",
   "metadata": {},
   "outputs": [],
   "source": [
    "class AutodidacticLearner:\n",
    "    def __init__(self, num_features):\n",
    "        self.num_features = num_features\n",
    "        self.hypothesis = set()\n",
    "        for i in range(num_features):\n",
    "            self.hypothesis.add(f\"x{i+1}\")\n",
    "            self.hypothesis.add(f\"¬x{i+1}\")\n",
    "\n",
    "    def refine_hypothesis(self, example, label):\n",
    "        previous_hypothesis = self.hypothesis.copy()\n",
    "\n",
    "        if label == '1':\n",
    "            for i, val in enumerate(example):\n",
    "                if val == '1':\n",
    "                    removed = f\"¬x{i+1}\"\n",
    "                    self.hypothesis.discard(removed)\n",
    "                elif val == '0':\n",
    "                    removed = f\"x{i+1}\"\n",
    "                    self.hypothesis.discard(removed)\n",
    "                # '?' ignored for positive\n",
    "        elif label == '0':\n",
    "            example = example.replace('?', '0')\n",
    "            # Currently no action on negative examples, except '?' replacement for clarity\n",
    "\n",
    "        changes = previous_hypothesis - self.hypothesis\n",
    "        if changes:\n",
    "            print(f\"Literals removed: {changes}\")\n",
    "        else:\n",
    "            print(\"No literals removed; hypothesis stable for this example.\")\n",
    "\n",
    "    def hypothesis_stable(self, previous):\n",
    "        return self.hypothesis == previous\n",
    "\n",
    "    def get_hypothesis(self):\n",
    "        return sorted(list(self.hypothesis))\n",
    "\n",
    "    def is_hypothesis_empty(self):\n",
    "        return len(self.hypothesis) == 0\n"
   ]
  },
  {
   "cell_type": "code",
   "execution_count": 6,
   "id": "6444810e-22c0-494b-a640-87e521bfc305",
   "metadata": {},
   "outputs": [
    {
     "name": "stdout",
     "output_type": "stream",
     "text": [
      "Processing example: ???, Label: 1\n",
      "No literals removed; hypothesis stable for this example.\n",
      "Hypothesis remained stable after this example.\n",
      "\n",
      "Processing example: 000, Label: 1\n",
      "Literals removed: {'x3', 'x1', 'x2'}\n",
      "Hypothesis updated.\n",
      "\n",
      "Processing example: ???, Label: 0\n",
      "No literals removed; hypothesis stable for this example.\n",
      "Hypothesis remained stable after this example.\n",
      "\n",
      "Processing example: 111, Label: 0\n",
      "No literals removed; hypothesis stable for this example.\n",
      "Hypothesis remained stable after this example.\n",
      "\n",
      "Processing example: 1?0, Label: 1\n",
      "Literals removed: {'¬x1'}\n",
      "Hypothesis updated.\n",
      "\n",
      "Final hypothesis: ['¬x2', '¬x3']\n"
     ]
    }
   ],
   "source": [
    "learner = AutodidacticLearner(num_features=3)\n",
    "\n",
    "examples = [\n",
    "    (\"???\", '1'),     # Entirely unknown positive example\n",
    "    (\"000\", '1'),     # Positive example contradicting all positives\n",
    "    (\"???\", '0'),     # Entirely unknown negative example\n",
    "    (\"111\", '0'),     # Negative example with no effect\n",
    "    (\"1?0\", '1'),     # Positive example partial unknown\n",
    "]\n",
    "\n",
    "for example, label in examples:\n",
    "    print(f\"Processing example: {example}, Label: {label}\")\n",
    "    prev_hypothesis = learner.hypothesis.copy()\n",
    "    learner.refine_hypothesis(example, label)\n",
    "    if learner.hypothesis_stable(prev_hypothesis):\n",
    "        print(\"Hypothesis remained stable after this example.\\n\")\n",
    "    else:\n",
    "        print(\"Hypothesis updated.\\n\")\n",
    "\n",
    "print(\"Final hypothesis:\", learner.get_hypothesis())\n"
   ]
  },
  {
   "cell_type": "code",
   "execution_count": 9,
   "id": "e4fc32ef-9fdc-45b3-932a-aa48d6dd2421",
   "metadata": {},
   "outputs": [
    {
     "name": "stdout",
     "output_type": "stream",
     "text": [
      "Requirement already satisfied: requests in c:\\users\\marios\\anaconda3\\envs\\autodidactic\\lib\\site-packages (2.32.3)\n",
      "Requirement already satisfied: charset-normalizer<4,>=2 in c:\\users\\marios\\anaconda3\\envs\\autodidactic\\lib\\site-packages (from requests) (3.3.2)\n",
      "Requirement already satisfied: idna<4,>=2.5 in c:\\users\\marios\\anaconda3\\envs\\autodidactic\\lib\\site-packages (from requests) (3.7)\n",
      "Requirement already satisfied: urllib3<3,>=1.21.1 in c:\\users\\marios\\anaconda3\\envs\\autodidactic\\lib\\site-packages (from requests) (2.3.0)\n",
      "Requirement already satisfied: certifi>=2017.4.17 in c:\\users\\marios\\anaconda3\\envs\\autodidactic\\lib\\site-packages (from requests) (2025.1.31)\n"
     ]
    }
   ],
   "source": [
    "!pip install requests\n"
   ]
  },
  {
   "cell_type": "code",
   "execution_count": 12,
   "id": "5bcc2f22-c6fa-48b1-9565-a1bc75016d2f",
   "metadata": {},
   "outputs": [
    {
     "name": "stdout",
     "output_type": "stream",
     "text": [
      "Step 1 | Example: 1?0, Label: 1\n",
      "Current Hypothesis: ['x1', 'x2']\n"
     ]
    },
    {
     "data": {
      "image/png": "[encoded data removed]",
      "text/plain": [
       "<Figure size 1000x150 with 1 Axes>"
      ]
     },
     "metadata": {},
     "output_type": "display_data"
    },
    {
     "name": "stdout",
     "output_type": "stream",
     "text": [
      "Step 2 | Example: ?11, Label: 1\n",
      "Current Hypothesis: ['x1', 'x2']\n"
     ]
    },
    {
     "data": {
      "image/png": "[encoded data removed]",
      "text/plain": [
       "<Figure size 1000x150 with 1 Axes>"
      ]
     },
     "metadata": {},
     "output_type": "display_data"
    },
    {
     "name": "stdout",
     "output_type": "stream",
     "text": [
      "Step 3 | Example: 000, Label: 0\n",
      "Current Hypothesis: ['x1', 'x2']\n"
     ]
    },
    {
     "data": {
      "image/png": "[encoded data removed]",
      "text/plain": [
       "<Figure size 1000x150 with 1 Axes>"
      ]
     },
     "metadata": {},
     "output_type": "display_data"
    }
   ],
   "source": [
    "import requests\n",
    "\n",
    "url = \"http://127.0.0.1:5000\"\n",
    "\n",
    "examples = [\n",
    "    {\"example\": \"1?0\", \"label\": \"1\"},\n",
    "    {\"example\": \"?11\", \"label\": \"1\"},\n",
    "    {\"example\": \"000\", \"label\": \"0\"}\n",
    "]\n",
    "\n",
    "for i, ex in enumerate(examples, 1):\n",
    "    response = requests.post(url + \"/submit_example\", json=ex)\n",
    "    data = response.json()\n",
    "    \n",
    "    print(f\"Step {i} | Example: {ex['example']}, Label: {ex['label']}\")\n",
    "    print(\"Current Hypothesis:\", data[\"current_hypothesis\"])\n",
    "    \n",
    "    # 🧠 Visualization\n",
    "    plot_hypothesis(data[\"current_hypothesis\"], step=i)\n"
   ]
  },
  {
   "cell_type": "code",
   "execution_count": 11,
   "id": "481372d9-b923-4f25-be19-0677f7ec8a61",
   "metadata": {},
   "outputs": [],
   "source": [
    "import matplotlib.pyplot as plt\n",
    "\n",
    "def plot_hypothesis(hypothesis, step=None):\n",
    "    literals = [f\"x{i+1}\" for i in range(3)] + [f\"¬x{i+1}\" for i in range(3)]\n",
    "\n",
    "    values = [1 if lit in hypothesis else 0 for lit in literals]\n",
    "\n",
    "    plt.figure(figsize=(10, 1.5))\n",
    "    bars = plt.bar(literals, values)\n",
    "\n",
    "    for bar, v in zip(bars, values):\n",
    "        bar.set_color('green' if v == 1 else 'lightgray')\n",
    "\n",
    "    title = \"Current Hypothesis\"\n",
    "    if step is not None:\n",
    "        title += f\" (Step {step})\"\n",
    "\n",
    "    plt.title(title)\n",
    "    plt.ylim(0, 1.2)\n",
    "    plt.xticks(rotation=45)\n",
    "    plt.yticks([])\n",
    "    plt.grid(axis='y', linestyle='--', linewidth=0.5)\n",
    "    plt.show()\n"
   ]
  },
  {
   "cell_type": "code",
   "execution_count": null,
   "id": "8aa4a6b4-cfb8-4e98-9332-db1e7263a8d2",
   "metadata": {},
   "outputs": [],
   "source": []
  }
 ],
 "metadata": {
  "kernelspec": {
   "display_name": "Python 3 (ipykernel)",
   "language": "python",
   "name": "python3"
  },
  "language_info": {
   "codemirror_mode": {
    "name": "ipython",
    "version": 3
   },
   "file_extension": ".py",
   "mimetype": "text/x-python",
   "name": "python",
   "nbconvert_exporter": "python",
   "pygments_lexer": "ipython3",
   "version": "3.11.11"
  }
 },
 "nbformat": 4,
 "nbformat_minor": 5
}
